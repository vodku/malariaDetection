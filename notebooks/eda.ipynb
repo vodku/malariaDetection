{
 "cells": [
  {
   "cell_type": "code",
   "execution_count": 28,
   "metadata": {
    "collapsed": true
   },
   "outputs": [],
   "source": [
    "from src.utils import image_size\n",
    "import pandas as pd\n",
    "import os"
   ]
  },
  {
   "cell_type": "code",
   "execution_count": 29,
   "outputs": [],
   "source": [
    "training_path = '../inputs/cell_images/train'\n",
    "validation_path = '../inputs/cell_images/validation'\n",
    "training_dirs = os.listdir(training_path)\n",
    "validation_dirs = os.listdir(validation_path)"
   ],
   "metadata": {
    "collapsed": false,
    "pycharm": {
     "name": "#%%\n"
    }
   }
  },
  {
   "cell_type": "code",
   "execution_count": 31,
   "outputs": [
    {
     "data": {
      "text/plain": "22046"
     },
     "execution_count": 31,
     "metadata": {},
     "output_type": "execute_result"
    }
   ],
   "source": [
    "all_training = [f'{training_path}/{dirs}/{file}' for dirs in training_dirs for file in os.listdir(f'{training_path}/{dirs}') if file != 'Thumbs.db']\n",
    "labels = [1 if dirs == 'Parasitized' else 0 for dirs in training_dirs for file in os.listdir(f'{training_path}/{dirs}') if file != 'Thumbs.db']\n",
    "len(labels)"
   ],
   "metadata": {
    "collapsed": false,
    "pycharm": {
     "name": "#%%\n"
    }
   }
  },
  {
   "cell_type": "code",
   "execution_count": 39,
   "outputs": [],
   "source": [
    "df = pd.DataFrame({'path': all_training, 'label': labels})\n",
    "df['size'] = df.path.apply(image_size)"
   ],
   "metadata": {
    "collapsed": false,
    "pycharm": {
     "name": "#%%\n"
    }
   }
  },
  {
   "cell_type": "code",
   "execution_count": 44,
   "outputs": [
    {
     "data": {
      "text/plain": "(130, 130)    170\n(127, 130)    164\n(127, 124)    163\n(136, 130)    150\n(130, 127)    147\n             ... \n(172, 124)      1\n(151, 220)      1\n(82, 118)       1\n(217, 163)      1\n(172, 208)      1\nName: size, Length: 1517, dtype: int64"
     },
     "execution_count": 44,
     "metadata": {},
     "output_type": "execute_result"
    }
   ],
   "source": [
    "# Most common image size 130x130\n",
    "df['size'].value_counts()"
   ],
   "metadata": {
    "collapsed": false,
    "pycharm": {
     "name": "#%%\n"
    }
   }
  }
 ],
 "metadata": {
  "kernelspec": {
   "display_name": "Python 3",
   "language": "python",
   "name": "python3"
  },
  "language_info": {
   "codemirror_mode": {
    "name": "ipython",
    "version": 2
   },
   "file_extension": ".py",
   "mimetype": "text/x-python",
   "name": "python",
   "nbconvert_exporter": "python",
   "pygments_lexer": "ipython2",
   "version": "2.7.6"
  }
 },
 "nbformat": 4,
 "nbformat_minor": 0
}